{
 "cells": [
  {
   "cell_type": "code",
   "execution_count": null,
   "metadata": {},
   "outputs": [],
   "source": [
    "import PIL\n",
    "import os\n",
    "from PIL import Image\n",
    "\n",
    "x = os.listdir('C:/Users/hadiu/OneDrive/Desktop/ল/')\n",
    "print('### Image Resizing COde By Guru ###')\n",
    "j=1\n",
    "for i in x:\n",
    "    print()\n",
    "    y = 'C:/Users/hadiu/OneDrive/Desktop/5/'+i\n",
    "    img = Image.open('C:/Users/hadiu/OneDrive/Desktop/ল/'+i)\n",
    "    my_width , my_height = (128,128)\n",
    "    img = img.resize((my_width,my_height),PIL.Image.ANTIALIAS)\n",
    "    img.save(y)\n",
    "    print('--------> Image ' + str(j) + ' Resized <--------')\n",
    "    j+=1\n",
    "print()\n",
    "print('Image Compression SuccessFully Completed')\n",
    "print()"
   ]
  }
 ],
 "metadata": {
  "kernelspec": {
   "display_name": "Python 3",
   "language": "python",
   "name": "python3"
  },
  "language_info": {
   "codemirror_mode": {
    "name": "ipython",
    "version": 3
   },
   "file_extension": ".py",
   "mimetype": "text/x-python",
   "name": "python",
   "nbconvert_exporter": "python",
   "pygments_lexer": "ipython3",
   "version": "3.7.3"
  }
 },
 "nbformat": 4,
 "nbformat_minor": 2
}
